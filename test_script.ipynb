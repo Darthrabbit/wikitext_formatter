{
 "cells": [
  {
   "cell_type": "code",
   "execution_count": null,
   "metadata": {},
   "outputs": [],
   "source": [
    "import WikitextFormatting as wf\n",
    "import nltk"
   ]
  },
  {
   "cell_type": "code",
   "execution_count": null,
   "metadata": {},
   "outputs": [],
   "source": [
    "filepath = \"../data/wikitext-2/\"\n",
    "filename = \"wiki.train.tokens\"\n",
    "\n",
    "pathToFile = filepath + filename\n",
    "exceptions = []\n",
    "stopWords = set(nltk.corpus.stopwords.words('english')).union({\"<unk>\"})\n",
    "minArticleLength = 1"
   ]
  },
  {
   "cell_type": "code",
   "execution_count": null,
   "metadata": {},
   "outputs": [],
   "source": [
    "formatter = wf.WikitextChainFormatter.from_file(pathToFile, minArticleLength, stopWords, exceptions)\n",
    "print(formatter.data.head())\n",
    "formatter = formatter.get_formatted_dataset_by_criteria(wf.POSSelection(\"NN\"))\n",
    "formatter = formatter.get_formatted_dataset_by_criteria(wf.FirstN(3))\n",
    "print(formatter)"
   ]
  }
 ],
 "metadata": {
  "kernelspec": {
   "display_name": "Python 3",
   "language": "python",
   "name": "python3"
  },
  "language_info": {
   "codemirror_mode": {
    "name": "ipython",
    "version": 3
   },
   "file_extension": ".py",
   "mimetype": "text/x-python",
   "name": "python",
   "nbconvert_exporter": "python",
   "pygments_lexer": "ipython3",
   "version": "3.7.6"
  }
 },
 "nbformat": 4,
 "nbformat_minor": 4
}
